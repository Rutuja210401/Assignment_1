{
 "cells": [
  {
   "cell_type": "code",
   "execution_count": 10,
   "id": "b6305aae",
   "metadata": {},
   "outputs": [
    {
     "name": "stdout",
     "output_type": "stream",
     "text": [
      "Number of even numbers:  4\n",
      "Number of odd numbers 5\n"
     ]
    }
   ],
   "source": [
    "# Write a Python program to count the number of even and odd numbers from a series of numbers.\n",
    "# Sample numbers : numbers = (1, 2, 3, 4, 5, 6, 7, 8, 9) \n",
    "# Expected Output :\n",
    "# Number of even numbers : 4\n",
    "# Number of odd numbers : 5\n",
    "#Solution:\n",
    "\n",
    "numbers = (1,2,3,4,5,6,7,8,9)\n",
    "count_even = 0\n",
    "count_odd = 0\n",
    "for x in numbers:\n",
    "    if x % 2 == 0:\n",
    "        count_even+=1\n",
    "    else:\n",
    "        count_odd+=1     \n",
    "print(\"Number of even numbers: \",count_even)\n",
    "print(\"Number of odd numbers\",count_odd)"
   ]
  },
  {
   "cell_type": "code",
   "execution_count": 12,
   "id": "eed4fff1",
   "metadata": {},
   "outputs": [
    {
     "name": "stdout",
     "output_type": "stream",
     "text": [
      "Word to reverse: Edyoda\n",
      "adoydE"
     ]
    }
   ],
   "source": [
    "# Write a Python program that accepts a word from the user and reverse it.\n",
    "# Sample Test Case\n",
    "# Input : Edyoda\n",
    "# output: adoydE\n",
    "\n",
    "word = input(\"Word to reverse: \")\n",
    "for char in range(len(word)-1,-1,-1):\n",
    "    print(word[char],end=\"\")"
   ]
  },
  {
   "cell_type": "code",
   "execution_count": 23,
   "id": "b3d8c8f4",
   "metadata": {},
   "outputs": [
    {
     "name": "stdout",
     "output_type": "stream",
     "text": [
      "1 1 2 3 5 8 13 21 34 "
     ]
    }
   ],
   "source": [
    "# Write a Python program to get the Fibonacci series between 0 to 50\n",
    "# Note : The Fibonacci Sequence is the series of numbers :\n",
    "# 0, 1, 1, 2, 3, 5, 8, 13, 21, ....\n",
    "# Every next number is found by adding up the two numbers before it.\n",
    "# Expected Output : 1 1 2 3 5 8 13 21 34\n",
    "#  solution:  \n",
    " \n",
    "x,y=0,1\n",
    "while y<50:\n",
    "    print(y,end=\" \")\n",
    "    x,y = y,x+y\n"
   ]
  },
  {
   "cell_type": "code",
   "execution_count": null,
   "id": "98a51876",
   "metadata": {},
   "outputs": [],
   "source": []
  }
 ],
 "metadata": {
  "kernelspec": {
   "display_name": "Python 3 (ipykernel)",
   "language": "python",
   "name": "python3"
  },
  "language_info": {
   "codemirror_mode": {
    "name": "ipython",
    "version": 3
   },
   "file_extension": ".py",
   "mimetype": "text/x-python",
   "name": "python",
   "nbconvert_exporter": "python",
   "pygments_lexer": "ipython3",
   "version": "3.11.4"
  }
 },
 "nbformat": 4,
 "nbformat_minor": 5
}
